{
  "nbformat": 4,
  "nbformat_minor": 0,
  "metadata": {
    "colab": {
      "provenance": [],
      "toc_visible": true
    },
    "kernelspec": {
      "name": "ir",
      "display_name": "R"
    },
    "language_info": {
      "name": "R"
    }
  },
  "cells": [
    {
      "cell_type": "markdown",
      "source": [
        "## `aenmd` installation\n",
        "\n"
      ],
      "metadata": {
        "id": "1wC5Y-1-ywaE"
      }
    },
    {
      "cell_type": "markdown",
      "source": [
        "####Step 1 Install `remotes` package."
      ],
      "metadata": {
        "id": "cENwmadvzO0l"
      }
    },
    {
      "cell_type": "code",
      "execution_count": 9,
      "metadata": {
        "id": "A2F6aVBvcdDC"
      },
      "outputs": [],
      "source": [
        "if(!require(remotes)){\n",
        "    install.packages(\"remotes\")\n",
        "}\n",
        "\n"
      ]
    },
    {
      "cell_type": "markdown",
      "source": [
        "#### Step 2: Install an aenmd data package.\n",
        "\n",
        "Here we are using `aenmd.data.ensdb.v105` but other data packages are equally okauy."
      ],
      "metadata": {
        "id": "z6o1W4TizqjD"
      }
    },
    {
      "cell_type": "code",
      "source": [
        "remotes::install_github(repo = \"kostkalab/aenmd_data\",\n",
        "                          subdir = \"aenmd.data.ensdb.v105\")\n",
        "\n"
      ],
      "metadata": {
        "colab": {
          "base_uri": "https://localhost:8080/"
        },
        "id": "vAvH82YlckEZ",
        "outputId": "96be494b-7d99-4d84-9370-11cd8fe8526d"
      },
      "execution_count": 10,
      "outputs": [
        {
          "output_type": "stream",
          "name": "stderr",
          "text": [
            "Skipping install of 'aenmd.data.ensdb.v105' from a github remote, the SHA1 (fea55c8a) has not changed since last install.\n",
            "  Use `force = TRUE` to force installation\n",
            "\n"
          ]
        }
      ]
    },
    {
      "cell_type": "markdown",
      "source": [
        "####Step 3: Install the `aenmd` package"
      ],
      "metadata": {
        "id": "gJ21buhrz8jK"
      }
    },
    {
      "cell_type": "code",
      "source": [
        "remotes::install_github(\"kostkalab/aenmd\")\n"
      ],
      "metadata": {
        "colab": {
          "base_uri": "https://localhost:8080/"
        },
        "id": "hOS54Dti0gVv",
        "outputId": "18d8b981-98e1-4d20-8c5b-b05926a7c5ca"
      },
      "execution_count": 11,
      "outputs": [
        {
          "output_type": "stream",
          "name": "stderr",
          "text": [
            "Skipping install of 'aenmd' from a github remote, the SHA1 (a8f8a992) has not changed since last install.\n",
            "  Use `force = TRUE` to force installation\n",
            "\n"
          ]
        }
      ]
    },
    {
      "cell_type": "markdown",
      "source": [
        "##`aenmd` test drive (example)"
      ],
      "metadata": {
        "id": "UcIs-5AW0IiS"
      }
    },
    {
      "cell_type": "markdown",
      "source": [
        "###Load `vcf` file\n",
        "The packe comes with ~1k randomly selected ClinVar variants, which we will annotate here. First, we read in the `vcf` file."
      ],
      "metadata": {
        "id": "WZDmYjLS0QY7"
      }
    },
    {
      "cell_type": "code",
      "source": [
        "library(aenmd) #- automatically loads annotation data as well\n",
        "\n",
        "#- load variants to annotate (1,000 random ClinVar variants)\n",
        "vcf_file <- system.file('extdata/clinvar_20221211_noinfo_sample1k.vcf.gz', package = 'aenmd')\n",
        "vcf      <- aenmd:::parse_vcf_VariantAnnotation(vcf_file)\n",
        "vcf_rng  <- vcf$vcf_rng\n",
        "vcf_rng[1:3]"
      ],
      "metadata": {
        "colab": {
          "base_uri": "https://localhost:8080/",
          "height": 337
        },
        "id": "tCwX4RIKkby-",
        "outputId": "acbdca28-b9f1-4659-eef8-7aa678672d1a"
      },
      "execution_count": 18,
      "outputs": [
        {
          "output_type": "stream",
          "name": "stderr",
          "text": [
            "Reading in vcf file using VariantAnnotation::readVcf...\n",
            " done.\n",
            "\n",
            " done.\n",
            "\n"
          ]
        },
        {
          "output_type": "display_data",
          "data": {
            "text/plain": [
              "GRanges object with 3 ranges and 5 metadata columns:\n",
              "      seqnames        ranges strand | param_range_id                     ref\n",
              "         <Rle>     <IRanges>  <Rle> |       <factor>          <DNAStringSet>\n",
              "  [1]        1 940501-941150      * |             NA GGAGCCTGCA...CAGATCTCCT\n",
              "  [2]        1 942504-942505      * |             NA                      CG\n",
              "  [3]        1       1041417      * |             NA                       C\n",
              "                 alt      qual      filter\n",
              "      <DNAStringSet> <numeric> <character>\n",
              "  [1]              G        NA           .\n",
              "  [2]              C        NA           .\n",
              "  [3]              T        NA           .\n",
              "  -------\n",
              "  seqinfo: 26 sequences from an unspecified genome; no seqlengths"
            ]
          },
          "metadata": {}
        }
      ]
    },
    {
      "cell_type": "markdown",
      "source": [
        "####Variant processing\n",
        "\n",
        "Nex, we are filtering out variants that will not be assessed (splice variants) and variants that won't create PTCs."
      ],
      "metadata": {
        "id": "PYLdny9l0l3Q"
      }
    },
    {
      "cell_type": "code",
      "source": [
        "vcf_rng_fil <- process_variants(vcf_rng)\n",
        "vcf_rng_fil[1:3]"
      ],
      "metadata": {
        "colab": {
          "base_uri": "https://localhost:8080/",
          "height": 390
        },
        "id": "m4RD7B6YrX06",
        "outputId": "cbd2e41c-3547-4f7a-9616-5821000135b8"
      },
      "execution_count": 19,
      "outputs": [
        {
          "output_type": "stream",
          "name": "stderr",
          "text": [
            "Processing variants.\n",
            "\n",
            "Filtering out splice variants.\n",
            "\n",
            "Filtering out variants that are not in coding sequence.\n",
            "\n",
            "Filtering out snvs that don't create stop codons.\n",
            "\n"
          ]
        },
        {
          "output_type": "display_data",
          "data": {
            "text/plain": [
              "GRanges object with 3 ranges and 7 metadata columns:\n",
              "      seqnames    ranges strand | param_range_id            ref            alt\n",
              "         <Rle> <IRanges>  <Rle> |       <factor> <DNAStringSet> <DNAStringSet>\n",
              "  [1]        1  12011551      * |             NA              C              T\n",
              "  [2]        1  99902707      * |             NA              C              T\n",
              "  [3]        1 115727014      * |             NA              C              A\n",
              "           qual      filter        type             key\n",
              "      <numeric> <character> <character>     <character>\n",
              "  [1]        NA           .         snv 1:012011551|C|T\n",
              "  [2]        NA           .         snv 1:099902707|C|T\n",
              "  [3]        NA           .         snv 1:115727014|C|A\n",
              "  -------\n",
              "  seqinfo: 26 sequences from an unspecified genome; no seqlengths"
            ]
          },
          "metadata": {}
        }
      ]
    },
    {
      "cell_type": "markdown",
      "source": [
        "####Variant annotation\n",
        "Finally, we annotate variantw with respect to NMD escape.\n",
        "Here, we collect a `GRanges` object."
      ],
      "metadata": {
        "id": "kA4i6XSF02Jn"
      }
    },
    {
      "cell_type": "code",
      "source": [
        "vcf_rng_ann <- annotate_nmd(vcf_rng_fil, rettype=\"gr\")\n",
        "vcf_rng_ann[1:3]"
      ],
      "metadata": {
        "colab": {
          "base_uri": "https://localhost:8080/",
          "height": 425
        },
        "id": "RhpdC91frgmu",
        "outputId": "fa6b7856-7503-4c3f-f48b-5a5e286f9176"
      },
      "execution_count": 20,
      "outputs": [
        {
          "output_type": "display_data",
          "data": {
            "text/plain": [
              "GRanges object with 3 ranges and 8 metadata columns:\n",
              "                                  seqnames    ranges strand | param_range_id\n",
              "                                     <Rle> <IRanges>  <Rle> |       <factor>\n",
              "  ENST00000235329|1:012011551|C|T        1  12011551      * |             NA\n",
              "  ENST00000294724|1:099902707|C|T        1  99902707      * |             NA\n",
              "  ENST00000361915|1:099902707|C|T        1  99902707      * |             NA\n",
              "                                             ref            alt      qual\n",
              "                                  <DNAStringSet> <DNAStringSet> <numeric>\n",
              "  ENST00000235329|1:012011551|C|T              C              T        NA\n",
              "  ENST00000294724|1:099902707|C|T              C              T        NA\n",
              "  ENST00000361915|1:099902707|C|T              C              T        NA\n",
              "                                       filter        type             key\n",
              "                                  <character> <character>     <character>\n",
              "  ENST00000235329|1:012011551|C|T           .         snv 1:012011551|C|T\n",
              "  ENST00000294724|1:099902707|C|T           .         snv 1:099902707|C|T\n",
              "  ENST00000361915|1:099902707|C|T           .         snv 1:099902707|C|T\n",
              "                                             res_aenmd\n",
              "                                           <DataFrame>\n",
              "  ENST00000235329|1:012011551|C|T  TRUE:TRUE:FALSE:...\n",
              "  ENST00000294724|1:099902707|C|T TRUE:FALSE:FALSE:...\n",
              "  ENST00000361915|1:099902707|C|T TRUE:FALSE:FALSE:...\n",
              "  -------\n",
              "  seqinfo: 26 sequences from an unspecified genome; no seqlengths"
            ]
          },
          "metadata": {}
        }
      ]
    },
    {
      "cell_type": "markdown",
      "source": [
        "####Access `aenmd`'s annotations\n",
        "We can access NMD escape annotations in a `DataFrame`, with rows corresponding to variant x transcript pairs encoded by the ranges in `vcf_rng_ann`."
      ],
      "metadata": {
        "id": "Zl0SZ1Rl09wt"
      }
    },
    {
      "cell_type": "code",
      "source": [
        "vcf_rng_ann$res_aenmd\n"
      ],
      "metadata": {
        "colab": {
          "base_uri": "https://localhost:8080/",
          "height": 496
        },
        "id": "L2Cs80hwrsND",
        "outputId": "a1ca8a11-79ed-4b71-f210-1015de31c78d"
      },
      "execution_count": 21,
      "outputs": [
        {
          "output_type": "display_data",
          "data": {
            "text/plain": [
              "DataFrame with 142 rows and 7 columns\n",
              "       is_ptc   is_last is_penultimate is_cssProximal is_single is_407plus\n",
              "    <logical> <logical>      <logical>      <logical> <logical>  <logical>\n",
              "1        TRUE      TRUE          FALSE          FALSE     FALSE      FALSE\n",
              "2        TRUE     FALSE          FALSE          FALSE     FALSE      FALSE\n",
              "3        TRUE     FALSE          FALSE          FALSE     FALSE      FALSE\n",
              "4        TRUE     FALSE          FALSE          FALSE     FALSE      FALSE\n",
              "5        TRUE     FALSE          FALSE          FALSE     FALSE      FALSE\n",
              "...       ...       ...            ...            ...       ...        ...\n",
              "138      TRUE     FALSE          FALSE          FALSE     FALSE      FALSE\n",
              "139      TRUE     FALSE          FALSE          FALSE     FALSE      FALSE\n",
              "140      TRUE     FALSE          FALSE          FALSE     FALSE      FALSE\n",
              "141     FALSE     FALSE          FALSE          FALSE     FALSE      FALSE\n",
              "142     FALSE     FALSE          FALSE          FALSE     FALSE      FALSE\n",
              "         transcript\n",
              "        <character>\n",
              "1   ENST00000235329\n",
              "2   ENST00000294724\n",
              "3   ENST00000361915\n",
              "4   ENST00000370163\n",
              "5   ENST00000370165\n",
              "...             ...\n",
              "138 ENST00000288447\n",
              "139 ENST00000357033\n",
              "140 ENST00000447523\n",
              "141 ENST00000303391\n",
              "142 ENST00000453960"
            ]
          },
          "metadata": {}
        }
      ]
    },
    {
      "cell_type": "code",
      "source": [],
      "metadata": {
        "id": "Xhme3rsC2KgW"
      },
      "execution_count": null,
      "outputs": []
    }
  ]
}